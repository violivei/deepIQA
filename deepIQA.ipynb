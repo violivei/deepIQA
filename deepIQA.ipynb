{
 "cells": [
  {
   "cell_type": "code",
   "execution_count": 1,
   "metadata": {},
   "outputs": [],
   "source": [
    "#!/usr/bin/python2\n",
    "import numpy as np\n",
    "from numpy.lib.stride_tricks import as_strided\n",
    "\n",
    "import chainer\n",
    "from chainer import computational_graph\n",
    "from chainer import cuda\n",
    "from chainer import optimizers\n",
    "from chainer import serializers\n",
    "\n",
    "import argparse\n",
    "import six\n",
    "import imageio\n",
    "import numbers\n",
    "     \n",
    "from nr_model import Model\n",
    "from fr_model import FRModel"
   ]
  },
  {
   "cell_type": "code",
   "execution_count": 15,
   "metadata": {},
   "outputs": [],
   "source": [
    "args = {}\n",
    "args['INPUT'] = [\"DigitalBlurSet/DiskR8_1.jpg\", \"DigitalBlurSet/DiskR10_1.jpg\", \"DigitalBlurSet/DiskR20_1.jpg\", \"DigitalBlurSet/DiskR30_1.jpg\", \"DigitalBlurSet/DiskR50_1.jpg\", \"DigitalBlurSet/GaussianH1x50S250_1.jpg\", \"DigitalBlurSet/GaussianH2x80S300_1.jpg\", \"DigitalBlurSet/GaussianH15x15S200_1.jpg\", \"DigitalBlurSet/GaussianH25x25S100_1.jpg\", \"DigitalBlurSet/GaussianH25x25S300_1.jpg\", \"DigitalBlurSet/GaussianH50x50S300_1.jpg\", \"DigitalBlurSet/MotionL50Th90_1.jpg\", \"DigitalBlurSet/MotionL80Th45_1.jpg\", \"DigitalBlurSet/MotionL100Th0_1.jpg\", \"DigitalBlurSet/MotionL100Th45_1.jpg\", \"DigitalBlurSet/Original_1.jpg\"]\n",
    "args['REF'] = \"\"\n",
    "args['model'] = \"models/nr_tid_weighted.model\"\n",
    "args['top'] = \"weighted\"\n",
    "args['gpu'] = 0"
   ]
  },
  {
   "cell_type": "code",
   "execution_count": 16,
   "metadata": {},
   "outputs": [
    {
     "ename": "CUDARuntimeError",
     "evalue": "cudaErrorUnknown: unknown error",
     "output_type": "error",
     "traceback": [
      "\u001b[0;31m\u001b[0m",
      "\u001b[0;31mCUDARuntimeError\u001b[0mTraceback (most recent call last)",
      "\u001b[0;32m<ipython-input-16-f9ba27deed2e>\u001b[0m in \u001b[0;36m<module>\u001b[0;34m()\u001b[0m\n\u001b[1;32m     14\u001b[0m \u001b[0mxp\u001b[0m \u001b[0;34m=\u001b[0m \u001b[0mcuda\u001b[0m\u001b[0;34m.\u001b[0m\u001b[0mcupy\u001b[0m\u001b[0;34m\u001b[0m\u001b[0m\n\u001b[1;32m     15\u001b[0m \u001b[0mserializers\u001b[0m\u001b[0;34m.\u001b[0m\u001b[0mload_hdf5\u001b[0m\u001b[0;34m(\u001b[0m\u001b[0margs\u001b[0m\u001b[0;34m[\u001b[0m\u001b[0;34m'model'\u001b[0m\u001b[0;34m]\u001b[0m\u001b[0;34m,\u001b[0m \u001b[0mmodel\u001b[0m\u001b[0;34m)\u001b[0m\u001b[0;34m\u001b[0m\u001b[0m\n\u001b[0;32m---> 16\u001b[0;31m \u001b[0mmodel\u001b[0m\u001b[0;34m.\u001b[0m\u001b[0mto_gpu\u001b[0m\u001b[0;34m(\u001b[0m\u001b[0;34m)\u001b[0m\u001b[0;34m\u001b[0m\u001b[0m\n\u001b[0m\u001b[1;32m     17\u001b[0m \u001b[0;34m\u001b[0m\u001b[0m\n\u001b[1;32m     18\u001b[0m \u001b[0;34m\u001b[0m\u001b[0m\n",
      "\u001b[0;32m/home/ec2-user/anaconda3/envs/chainer_p27/lib/python2.7/site-packages/chainer/link.pyc\u001b[0m in \u001b[0;36mto_gpu\u001b[0;34m(self, device)\u001b[0m\n\u001b[1;32m    882\u001b[0m     \u001b[0;32mdef\u001b[0m \u001b[0mto_gpu\u001b[0m\u001b[0;34m(\u001b[0m\u001b[0mself\u001b[0m\u001b[0;34m,\u001b[0m \u001b[0mdevice\u001b[0m\u001b[0;34m=\u001b[0m\u001b[0mNone\u001b[0m\u001b[0;34m)\u001b[0m\u001b[0;34m:\u001b[0m\u001b[0;34m\u001b[0m\u001b[0m\n\u001b[1;32m    883\u001b[0m         \u001b[0;32mwith\u001b[0m \u001b[0mcuda\u001b[0m\u001b[0;34m.\u001b[0m\u001b[0m_get_device\u001b[0m\u001b[0;34m(\u001b[0m\u001b[0mdevice\u001b[0m\u001b[0;34m)\u001b[0m\u001b[0;34m:\u001b[0m\u001b[0;34m\u001b[0m\u001b[0m\n\u001b[0;32m--> 884\u001b[0;31m             \u001b[0msuper\u001b[0m\u001b[0;34m(\u001b[0m\u001b[0mChain\u001b[0m\u001b[0;34m,\u001b[0m \u001b[0mself\u001b[0m\u001b[0;34m)\u001b[0m\u001b[0;34m.\u001b[0m\u001b[0mto_gpu\u001b[0m\u001b[0;34m(\u001b[0m\u001b[0;34m)\u001b[0m\u001b[0;34m\u001b[0m\u001b[0m\n\u001b[0m\u001b[1;32m    885\u001b[0m             \u001b[0md\u001b[0m \u001b[0;34m=\u001b[0m \u001b[0mself\u001b[0m\u001b[0;34m.\u001b[0m\u001b[0m__dict__\u001b[0m\u001b[0;34m\u001b[0m\u001b[0m\n\u001b[1;32m    886\u001b[0m             \u001b[0;32mfor\u001b[0m \u001b[0mname\u001b[0m \u001b[0;32min\u001b[0m \u001b[0mself\u001b[0m\u001b[0;34m.\u001b[0m\u001b[0m_children\u001b[0m\u001b[0;34m:\u001b[0m\u001b[0;34m\u001b[0m\u001b[0m\n",
      "\u001b[0;32m/home/ec2-user/anaconda3/envs/chainer_p27/lib/python2.7/site-packages/chainer/link.pyc\u001b[0m in \u001b[0;36mto_gpu\u001b[0;34m(self, device)\u001b[0m\n\u001b[1;32m    414\u001b[0m                 \u001b[0;32mif\u001b[0m \u001b[0misinstance\u001b[0m\u001b[0;34m(\u001b[0m\u001b[0mvalue\u001b[0m\u001b[0;34m,\u001b[0m \u001b[0mnumpy\u001b[0m\u001b[0;34m.\u001b[0m\u001b[0mndarray\u001b[0m\u001b[0;34m)\u001b[0m\u001b[0;34m:\u001b[0m\u001b[0;34m\u001b[0m\u001b[0m\n\u001b[1;32m    415\u001b[0m                     \u001b[0md\u001b[0m\u001b[0;34m[\u001b[0m\u001b[0mname\u001b[0m\u001b[0;34m]\u001b[0m \u001b[0;34m=\u001b[0m \u001b[0mcuda\u001b[0m\u001b[0;34m.\u001b[0m\u001b[0mto_gpu\u001b[0m\u001b[0;34m(\u001b[0m\u001b[0mvalue\u001b[0m\u001b[0;34m)\u001b[0m\u001b[0;34m\u001b[0m\u001b[0m\n\u001b[0;32m--> 416\u001b[0;31m             \u001b[0mself\u001b[0m\u001b[0;34m.\u001b[0m\u001b[0m_device_id\u001b[0m \u001b[0;34m=\u001b[0m \u001b[0mcuda\u001b[0m\u001b[0;34m.\u001b[0m\u001b[0mcupy\u001b[0m\u001b[0;34m.\u001b[0m\u001b[0mcuda\u001b[0m\u001b[0;34m.\u001b[0m\u001b[0mget_device_id\u001b[0m\u001b[0;34m(\u001b[0m\u001b[0;34m)\u001b[0m\u001b[0;34m\u001b[0m\u001b[0m\n\u001b[0m\u001b[1;32m    417\u001b[0m         \u001b[0mself\u001b[0m\u001b[0;34m.\u001b[0m\u001b[0m_cpu\u001b[0m \u001b[0;34m=\u001b[0m \u001b[0mFalse\u001b[0m\u001b[0;34m\u001b[0m\u001b[0m\n\u001b[1;32m    418\u001b[0m         \u001b[0;32mreturn\u001b[0m \u001b[0mself\u001b[0m\u001b[0;34m\u001b[0m\u001b[0m\n",
      "\u001b[0;32mcupy/cuda/device.pyx\u001b[0m in \u001b[0;36mcupy.cuda.device.get_device_id\u001b[0;34m()\u001b[0m\n",
      "\u001b[0;32mcupy/cuda/device.pyx\u001b[0m in \u001b[0;36mcupy.cuda.device.get_device_id\u001b[0;34m()\u001b[0m\n",
      "\u001b[0;32mcupy/cuda/runtime.pyx\u001b[0m in \u001b[0;36mcupy.cuda.runtime.getDevice\u001b[0;34m()\u001b[0m\n",
      "\u001b[0;32mcupy/cuda/runtime.pyx\u001b[0m in \u001b[0;36mcupy.cuda.runtime.check_status\u001b[0;34m()\u001b[0m\n",
      "\u001b[0;31mCUDARuntimeError\u001b[0m: cudaErrorUnknown: unknown error"
     ]
    }
   ],
   "source": [
    "\n",
    "FR = True\n",
    "if args['REF'] == \"\":\n",
    "     FR = False\n",
    "\n",
    "if FR:\n",
    "     model = FRModel(top=args['top'])\n",
    "else:\n",
    "     model = Model(top=args['top'])\n",
    "\n",
    "\n",
    "cuda.cudnn_enabled = True\n",
    "cuda.check_cuda_available()\n",
    "xp = cuda.cupy\n",
    "serializers.load_hdf5(args['model'], model)\n",
    "model.to_gpu()\n",
    "\n",
    "\n",
    "if FR:\n",
    "    ref_img = imageio.imread(args['REF'])\n",
    "    patches = extract_patches(ref_img)\n",
    "    X_ref = np.transpose(patches.reshape((-1, 32, 32, 3)), (0, 3, 1, 2))\n",
    "\n",
    "imgs = imageio.imread(args['INPUT'])\n",
    "for img in imgs:\n",
    "    patches = extract_patches(img)\n",
    "    X = np.transpose(patches.reshape((-1, 32, 32, 3)), (0, 3, 1, 2))\n",
    "\n",
    "\n",
    "    y = []\n",
    "    weights = []\n",
    "    batchsize = min(2000, X.shape[0])\n",
    "    t = xp.zeros((1, 1), np.float32)\n",
    "    for i in six.moves.range(0, X.shape[0], batchsize):\n",
    "        X_batch = X[i:i + batchsize]\n",
    "        X_batch = xp.array(X_batch.astype(np.float32))\n",
    "\n",
    "        if FR:\n",
    "            X_ref_batch = X_ref[i:i + batchsize]\n",
    "            X_ref_batch = xp.array(X_ref_batch.astype(np.float32))\n",
    "            model.forward(X_batch, X_ref_batch, t, False, n_patches_per_image=X_batch.shape[0])\n",
    "        else:\n",
    "            model.forward(X_batch, t, False, X_batch.shape[0])\n",
    "\n",
    "        y.append(xp.asnumpy(model.y[0].data).reshape((-1,)))\n",
    "        weights.append(xp.asnumpy(model.a[0].data).reshape((-1,)))\n",
    "\n",
    "    y = np.concatenate(y)\n",
    "    weights = np.concatenate(weights)\n",
    "\n",
    "    print(\"%f\" %  (np.sum(y*weights)/np.sum(weights)))"
   ]
  },
  {
   "cell_type": "code",
   "execution_count": null,
   "metadata": {},
   "outputs": [],
   "source": []
  }
 ],
 "metadata": {
  "kernelspec": {
   "display_name": "conda_chainer_p27",
   "language": "python",
   "name": "conda_chainer_p27"
  },
  "language_info": {
   "codemirror_mode": {
    "name": "ipython",
    "version": 2
   },
   "file_extension": ".py",
   "mimetype": "text/x-python",
   "name": "python",
   "nbconvert_exporter": "python",
   "pygments_lexer": "ipython2",
   "version": "2.7.15"
  }
 },
 "nbformat": 4,
 "nbformat_minor": 2
}
