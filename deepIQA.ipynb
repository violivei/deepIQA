{
 "cells": [
  {
   "cell_type": "code",
   "execution_count": null,
   "metadata": {},
   "outputs": [],
   "source": [
    "#!/usr/bin/python2\n",
    "import numpy as np\n",
    "from numpy.lib.stride_tricks import as_strided\n",
    "\n",
    "import chainer\n",
    "from chainer import computational_graph\n",
    "from chainer import cuda\n",
    "from chainer import optimizers\n",
    "from chainer import serializers\n",
    "\n",
    "import argparse\n",
    "import six\n",
    "import imageio\n",
    "import numbers\n",
    "     \n",
    "from nr_model import Model\n",
    "from fr_model import FRModel"
   ]
  },
  {
   "cell_type": "code",
   "execution_count": 26,
   "metadata": {},
   "outputs": [],
   "source": [
    "def extract_patches(arr, patch_shape=(32,32,3), extraction_step=32):\n",
    "    arr_ndim = arr.ndim\n",
    "\n",
    "    if isinstance(patch_shape, numbers.Number):\n",
    "        patch_shape = tuple([patch_shape] * arr_ndim)\n",
    "    if isinstance(extraction_step, numbers.Number):\n",
    "        extraction_step = tuple([extraction_step] * arr_ndim)\n",
    "\n",
    "    patch_strides = arr.strides\n",
    "\n",
    "    slices = tuple(slice(None, None, st) for st in extraction_step)\n",
    "    indexing_strides = arr[slices].strides\n",
    "\n",
    "    patch_indices_shape = ((np.array(arr.shape) - np.array(patch_shape)) //\n",
    "                           np.array(extraction_step)) + 1\n",
    "\n",
    "    shape = tuple(list(patch_indices_shape) + list(patch_shape))\n",
    "    strides = tuple(list(indexing_strides) + list(patch_strides))\n",
    "\n",
    "    patches = as_strided(arr, shape=shape, strides=strides)\n",
    "    return patches"
   ]
  },
  {
   "cell_type": "code",
   "execution_count": null,
   "metadata": {},
   "outputs": [],
   "source": [
    "args = {}\n",
    "args['INPUT'] = [\"DigitalBlurSet/DiskR8_1.jpg\", \"DigitalBlurSet/DiskR10_1.jpg\", \"DigitalBlurSet/DiskR20_1.jpg\", \"DigitalBlurSet/DiskR30_1.jpg\", \"DigitalBlurSet/DiskR50_1.jpg\", \"DigitalBlurSet/GaussianH1x50S250_1.jpg\", \"DigitalBlurSet/GaussianH2x80S300_1.jpg\", \"DigitalBlurSet/GaussianH15x15S200_1.jpg\", \"DigitalBlurSet/GaussianH25x25S100_1.jpg\", \"DigitalBlurSet/GaussianH25x25S300_1.jpg\", \"DigitalBlurSet/GaussianH50x50S300_1.jpg\", \"DigitalBlurSet/MotionL50Th90_1.jpg\", \"DigitalBlurSet/MotionL80Th45_1.jpg\", \"DigitalBlurSet/MotionL100Th0_1.jpg\", \"DigitalBlurSet/MotionL100Th45_1.jpg\", \"DigitalBlurSet/Original_1.jpg\"]\n",
    "args['REF'] = \"\"\n",
    "args['model'] = \"models/nr_tid_weighted.model\"\n",
    "args['top'] = \"weighted\"\n",
    "args['gpu'] = 0"
   ]
  },
  {
   "cell_type": "code",
   "execution_count": null,
   "metadata": {},
   "outputs": [],
   "source": [
    "\n",
    "FR = True\n",
    "if args['REF'] == \"\":\n",
    "     FR = False\n",
    "\n",
    "if FR:\n",
    "     model = FRModel(top=args['top'])\n",
    "else:\n",
    "     model = Model(top=args['top'])\n",
    "\n",
    "\n",
    "cuda.cudnn_enabled = True\n",
    "cuda.check_cuda_available()\n",
    "xp = cuda.cupy\n",
    "serializers.load_hdf5(args['model'], model)\n",
    "model.to_gpu()\n",
    "\n",
    "\n",
    "if FR:\n",
    "    ref_img = imageio.imread(args['REF'])\n",
    "    patches = extract_patches(ref_img)\n",
    "    X_ref = np.transpose(patches.reshape((-1, 32, 32, 3)), (0, 3, 1, 2))\n",
    "\n",
    "\n",
    "for input_img in args['INPUT']:\n",
    "    img = imageio.imread(input_img)\n",
    "    patches = extract_patches(img)\n",
    "    X = np.transpose(patches.reshape((-1, 32, 32, 3)), (0, 3, 1, 2))\n",
    "    y = []\n",
    "    weights = []\n",
    "    batchsize = min(2000, X.shape[0])\n",
    "    t = xp.zeros((1, 1), np.float32)\n",
    "    for i in six.moves.range(0, X.shape[0], batchsize):\n",
    "        X_batch = X[i:i + batchsize]\n",
    "        X_batch = xp.array(X_batch.astype(np.float32))\n",
    "\n",
    "        if FR:\n",
    "            X_ref_batch = X_ref[i:i + batchsize]\n",
    "            X_ref_batch = xp.array(X_ref_batch.astype(np.float32))\n",
    "            model.forward(X_batch, X_ref_batch, t, False, n_patches_per_image=X_batch.shape[0])\n",
    "        else:\n",
    "            model.forward(X_batch, t, False, X_batch.shape[0])\n",
    "\n",
    "        y.append(xp.asnumpy(model.y[0].data).reshape((-1,)))\n",
    "        weights.append(xp.asnumpy(model.a[0].data).reshape((-1,)))\n",
    "\n",
    "    y = np.concatenate(y)\n",
    "    weights = np.concatenate(weights)\n",
    "\n",
    "    print(\"%f\" %  (np.sum(y*weights)/np.sum(weights)))"
   ]
  },
  {
   "cell_type": "code",
   "execution_count": null,
   "metadata": {},
   "outputs": [],
   "source": []
  }
 ],
 "metadata": {
  "kernelspec": {
   "display_name": "conda_chainer_p27",
   "language": "python",
   "name": "conda_chainer_p27"
  },
  "language_info": {
   "codemirror_mode": {
    "name": "ipython",
    "version": 2
   },
   "file_extension": ".py",
   "mimetype": "text/x-python",
   "name": "python",
   "nbconvert_exporter": "python",
   "pygments_lexer": "ipython2",
   "version": "2.7.15"
  }
 },
 "nbformat": 4,
 "nbformat_minor": 2
}
